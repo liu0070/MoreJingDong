{
 "cells": [
  {
   "cell_type": "code",
   "execution_count": 1,
   "metadata": {},
   "outputs": [
    {
     "name": "stdout",
     "output_type": "stream",
     "text": [
      "{'took': 1, 'timed_out': False, '_shards': {'total': 1, 'successful': 1, 'skipped': 0, 'failed': 0}, 'hits': {'total': {'value': 932, 'relation': 'eq'}, 'max_score': 5.359427, 'hits': [{'_index': 'goods', '_type': '_doc', '_id': '55z7wIQBMPEm6NG0MZsZ', '_score': 5.359427, '_source': {'description': '京品手机\\t\\nApple iPhone 12 (A2404) 128GB 白色 支持移动联通电信5G 双卡双待手机\\n苹果,苹果手机,5G手机,5GiPhone,5G苹果手机,苹果新机,苹果新品,MagSafe,MagSafe无线充电,京品手机', 'link': 'https://item.jd.com/100009077475.html', 'price': '￥4899.00', 'image': '//img13.360buyimg.com/n7/jfs/t1/219583/26/7800/151098/61b8a3f2E2879c4f6/9b73c1d24e0abecb.jpg'}}, {'_index': 'goods', '_type': '_doc', '_id': 'B5z7wIQBMPEm6NG0MZwZ', '_score': 5.359427, '_source': {'description': '京品手机\\t\\nApple iPhone 12 (A2404) 128GB 白色 支持移动联通电信5G 双卡双待手机\\n苹果,苹果手机,5G手机,5GiPhone,5G苹果手机,苹果新机,苹果新品,MagSafe,MagSafe无线充电,京品手机', 'link': 'https://item.jd.com/100009077475.html', 'price': '￥4899.00', 'image': '//img14.360buyimg.com/n7/jfs/t1/189071/26/24872/250013/62870273E0be46c79/2be13b0a9f01f66f.jpg'}}, {'_index': 'goods', '_type': '_doc', '_id': 'kpz7wIQBMPEm6NG0MaAa', '_score': 4.930313, '_source': {'description': '梦多福 自律锁手机自律盒手机锁定自律盒子定时手机监狱小学生防沉迷戒网瘾戒手机考试用品考研高考 抹茶绿 【学生文具】\\n自律锁手机，锁住“即将浪费的时间”--【八仓发货，快至当/次日达】【儿童天文望远镜】', 'link': 'https://item.jd.com/10038319627668.html', 'price': '￥138.00', 'image': '//img14.360buyimg.com/n7/jfs/t1/111301/17/23111/125368/624e7a92Eb6c435d8/c6d2d88b61f9748e.jpg'}}, {'_index': 'goods', '_type': '_doc', '_id': 's5z7wIQBMPEm6NG0MaAa', '_score': 4.930313, '_source': {'description': '梦多福 自律锁手机自律盒手机锁定自律盒子定时手机监狱小学生防沉迷戒网瘾戒手机考试用品考研高考 抹茶绿 【学生文具】\\n自律锁手机，锁住“即将浪费的时间”--【八仓发货，快至当/次日达】【儿童天文望远镜】', 'link': 'https://item.jd.com/10038319627668.html', 'price': '￥138.00', 'image': '//img13.360buyimg.com/n7/jfs/t1/10770/4/18469/158161/62c081d8E86d2bce1/d0a78be2837f755e.jpg'}}]}}\n"
     ]
    },
    {
     "name": "stderr",
     "output_type": "stream",
     "text": [
      "C:\\AppData\\Local\\Temp\\ipykernel_9284\\4175649427.py:14: DeprecationWarning: The 'body' parameter is deprecated and will be removed in a future version. Instead use individual parameters.\n",
      "  res = es.search(index='goods', body=query)\n",
      "C:\\AppData\\Local\\Temp\\ipykernel_9284\\4175649427.py:14: ElasticsearchWarning: Elasticsearch built-in security features are not enabled. Without authentication, your cluster could be accessible to anyone. See https://www.elastic.co/guide/en/elasticsearch/reference/7.14/security-minimal-setup.html to enable security.\n",
      "  res = es.search(index='goods', body=query)\n"
     ]
    }
   ],
   "source": [
    "from elasticsearch import Elasticsearch\n",
    "from json import loads\n",
    "\n",
    "es = Elasticsearch('http://192.168.10.132:9200')\n",
    "query = {\n",
    "    'query': {\n",
    "        'query_string': {\n",
    "            'default_field': 'description',\n",
    "            'query': \"手机\"\n",
    "        }\n",
    "    },\n",
    "    'size': 4,\n",
    "}\n",
    "res = es.search(index='goods', body=query)\n",
    "print(res.body)"
   ]
  },
  {
   "cell_type": "code",
   "execution_count": null,
   "metadata": {
    "pycharm": {
     "name": "#%%\n"
    }
   },
   "outputs": [],
   "source": []
  }
 ],
 "metadata": {
  "kernelspec": {
   "display_name": "Python 3 (ipykernel)",
   "language": "python",
   "name": "python3"
  },
  "language_info": {
   "codemirror_mode": {
    "name": "ipython",
    "version": 3
   },
   "file_extension": ".py",
   "mimetype": "text/x-python",
   "name": "python",
   "nbconvert_exporter": "python",
   "pygments_lexer": "ipython3",
   "version": "3.9.7"
  }
 },
 "nbformat": 4,
 "nbformat_minor": 1
}